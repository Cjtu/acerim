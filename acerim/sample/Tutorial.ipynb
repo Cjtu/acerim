{
 "cells": [
  {
   "cell_type": "markdown",
   "metadata": {},
   "source": [
    "# ACERIM - Planetary data science in Python"
   ]
  },
  {
   "cell_type": "markdown",
   "metadata": {},
   "source": [
    "Christian Tai Udovicic (cj.taiudovicic@gmail.com)\n",
    "\n",
    "See github.com/cjtu/acerim for the project homepage and installation instructions. Full API documentation is available at readthedocs.org/projects/acerim."
   ]
  },
  {
   "cell_type": "markdown",
   "metadata": {},
   "source": [
    "## Introduction"
   ]
  },
  {
   "cell_type": "markdown",
   "metadata": {},
   "source": [
    "ACERIM (Automated Crater Ejecta Region of Interest Mapper) is a data analysis library for importing, processing, analyzing image data of planetary impact craters. Benefits of using this library include:\n",
    "\n",
    "- Simple importing of image and crater data\n",
    "- Functions for extracting craters and their ejecta blankets from images\n",
    "- Ability to run custom tailored statistics on any or all regions of interest\n",
    "- Integrates with all of your favourite Python libraries (numpy, pandas, matplotlib, etc)\n",
    "- Reproducible (and citable!) reseach workflows\n",
    "\n",
    "I developed ACERIM to help simplify the unwieldy process of importing crater and image data into Python and to formalize some common statistical analyses done with crater data. As a strong believer in collaboration and open-source research, if you think there is feature missing or would like to contribute to ACERIM, please feel free to get in touch!\n",
    "\n",
    "To get started using ACERIM in a Python program, you can import its main classes directly:"
   ]
  },
  {
   "cell_type": "code",
   "execution_count": 1,
   "metadata": {},
   "outputs": [],
   "source": [
    "from acerim import AceDataset, CraterDataFrame"
   ]
  },
  {
   "cell_type": "markdown",
   "metadata": {
    "collapsed": true
   },
   "source": [
    "We will also import the acefunctions module which has the bulk of the helper functions for all of your data analysis needs:"
   ]
  },
  {
   "cell_type": "code",
   "execution_count": 2,
   "metadata": {
    "collapsed": true
   },
   "outputs": [],
   "source": [
    "from acerim import acefunctions as af"
   ]
  },
  {
   "cell_type": "markdown",
   "metadata": {},
   "source": [
    "# # AceDataset \n",
    "\n",
    "To get started with ACERIM, you will probably need to import an image dataset. "
   ]
  }
 ],
 "metadata": {
  "anaconda-cloud": {},
  "kernelspec": {
   "display_name": "Python 2",
   "language": "python",
   "name": "python2"
  },
  "language_info": {
   "codemirror_mode": {
    "name": "ipython",
    "version": 2
   },
   "file_extension": ".py",
   "mimetype": "text/x-python",
   "name": "python",
   "nbconvert_exporter": "python",
   "pygments_lexer": "ipython2",
   "version": "2.7.13"
  }
 },
 "nbformat": 4,
 "nbformat_minor": 1
}
